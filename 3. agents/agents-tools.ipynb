{
 "cells": [
  {
   "cell_type": "markdown",
   "metadata": {},
   "source": [
    "## Agents and Tools\n",
    "\n",
    "### Agents: Agents enable LLMs to work with tools that perform various tasks\n",
    "\n",
    "to use agents, we require 3 things\n",
    "- A base LLM\n",
    "- A tool that we will be interacting with\n",
    "- An agent to control the interaction\n",
    "\n",
    "#### In the following example, we will use the Math tool to perform some simple math operations"
   ]
  },
  {
   "cell_type": "code",
   "execution_count": null,
   "metadata": {},
   "outputs": [],
   "source": [
    "from dotenv import load_dotenv\n",
    "from langchain_google_genai import GoogleGenerativeAI\n",
    "import os\n",
    "load_dotenv()"
   ]
  },
  {
   "cell_type": "code",
   "execution_count": 23,
   "metadata": {},
   "outputs": [],
   "source": [
    "llm = GoogleGenerativeAI(\n",
    "  model=\"gemini-1.5-pro-latest\", \n",
    "  google_api_key=os.getenv(\"GOOGLE_API_KEY\"), \n",
    ")"
   ]
  },
  {
   "cell_type": "code",
   "execution_count": 24,
   "metadata": {},
   "outputs": [],
   "source": [
    "from langchain.chains import LLMMathChain # Chain that interprets a prompt and executes python code to do with.\n",
    "from langchain.agents import Tool"
   ]
  },
  {
   "cell_type": "code",
   "execution_count": 25,
   "metadata": {},
   "outputs": [],
   "source": [
    "# initialize the math tool\n",
    "\n",
    "llm_math = LLMMathChain.from_llm(llm=llm)\n",
    "\n",
    "math_tool = Tool(\n",
    "    name='Calculator',\n",
    "    func=llm_math.run,\n",
    "    description='Useful for when you need to answer questions about math.'\n",
    ")\n",
    "\n",
    "# when giving tools to LLM, we must pass as list of tools\n",
    "tools = [math_tool]  # is a list of possible Tools that your agent can use"
   ]
  },
  {
   "cell_type": "code",
   "execution_count": null,
   "metadata": {},
   "outputs": [],
   "source": [
    "print(tools[0].name, \"---\", tools[0].description)"
   ]
  },
  {
   "cell_type": "markdown",
   "metadata": {},
   "source": [
    "### Now create an Agent\n",
    "#### Zero-shot ReAct\n",
    "The Zero-shot ReAct Agent is a language generation mode that can create realistic contexts even without being trained on specific data. It can be used for various tasks such as generating creative text formats, language translation, and generating different types of creative content."
   ]
  },
  {
   "cell_type": "code",
   "execution_count": 27,
   "metadata": {},
   "outputs": [],
   "source": [
    "from langchain.agents import initialize_agent\n",
    "\n",
    "zero_shot_agent = initialize_agent(\n",
    "    agent=\"chat-zero-shot-react-description\",\n",
    "    tools=tools,\n",
    "    llm=llm,\n",
    "    verbose=True,\n",
    "    max_iterations=10,\n",
    "    handle_parsing_errors=True\n",
    ")"
   ]
  },
  {
   "cell_type": "code",
   "execution_count": null,
   "metadata": {},
   "outputs": [],
   "source": [
    "zero_shot_agent(\"What is root over 25?\")"
   ]
  },
  {
   "cell_type": "code",
   "execution_count": null,
   "metadata": {},
   "outputs": [],
   "source": [
    "problem = \"\"\"\n",
    "        You are building a house. There are two bedrooms of 5 metres by 5 metres each and drawing cum open kitchen \n",
    "        is 7 metres by 6 metres and balcony of 3 metres by 2 metres. \n",
    "        What is the total area of your house?\n",
    "        \"\"\"\n",
    "zero_shot_agent(problem)"
   ]
  },
  {
   "cell_type": "markdown",
   "metadata": {},
   "source": [
    "### Using mutiple tools\n",
    "In the following example, we will be using the Duck Duck Go search API as a Tool combined with the Math Tool We will then give the Agent a problem that initiates a search first followed by Calculation."
   ]
  },
  {
   "cell_type": "code",
   "execution_count": null,
   "metadata": {},
   "outputs": [],
   "source": [
    "# Define the Tools\n",
    "from langchain.tools import DuckDuckGoSearchRun\n",
    "search = DuckDuckGoSearchRun()\n",
    "\n",
    "search_tool = Tool.from_function(\n",
    "  func=search.run,\n",
    "  name=\"Search\",\n",
    "  description=\"Useful when you need to search the internet for information\"\n",
    ")\n",
    "\n",
    "llm_math_chain = LLMMathChain(llm=llm, verbose=True)\n",
    "\n",
    "math_tool = Tool.from_function(\n",
    "  func=llm_math_chain.run,\n",
    "  name=\"Calculator\",\n",
    "  description=\"Useful for when you are asked to perform math calculations\"\n",
    ")"
   ]
  },
  {
   "cell_type": "code",
   "execution_count": 30,
   "metadata": {},
   "outputs": [],
   "source": [
    "# Define the Agent\n",
    "\n",
    "tools = [search_tool, math_tool]\n",
    "\n",
    "agent = initialize_agent(\n",
    "    tools,\n",
    "    llm,\n",
    "    agent=\"zero-shot-react-description\",\n",
    "    verbose=True,\n",
    "    max_iterations=10,\n",
    "    handle_parsing_errors=True\n",
    ")"
   ]
  },
  {
   "cell_type": "code",
   "execution_count": null,
   "metadata": {},
   "outputs": [],
   "source": [
    "# Run the Agent with the problem\n",
    "\n",
    "agent.run(\"\"\"Get Microsoft Stock Price taken from Google Finance and display in both USD and VND values\"\"\")"
   ]
  },
  {
   "cell_type": "markdown",
   "metadata": {},
   "source": [
    "### Create a custom tool"
   ]
  },
  {
   "cell_type": "code",
   "execution_count": 32,
   "metadata": {},
   "outputs": [],
   "source": [
    "from langchain.tools import BaseTool\n",
    "from langchain_core.output_parsers import JsonOutputParser\n",
    "from langchain.tools import tool\n",
    "\n",
    "@tool(\"JSON_Response\", return_direct=True)\n",
    "def StructuredResponseTool(question: str):\n",
    "  \"\"\"\n",
    "  use this tool to send a prompt and get a JSON returned \n",
    "  with three fields - Topic, Question_Details and Detailed_Response\n",
    "  \"\"\"\n",
    "  json_prompt = PromptTemplate.from_template(\n",
    "  \"\"\"Return a JSON object with an `answer` key that answers the following question: {question}. \n",
    "      The JSON object will have three fields - Topic, Question_Details and Detailed_Response\"\"\"\n",
    "  )\n",
    "\n",
    "  model = GoogleGenerativeAI(\n",
    "    model=\"gemini-1.5-pro-latest\", \n",
    "    google_api_key=os.getenv(\"GOOGLE_API_KEY\"), \n",
    "  )\n",
    "\n",
    "  json_parser = JsonOutputParser()\n",
    "  json_chain = json_prompt | model | json_parser\n",
    "  x = json_chain.invoke({\"question\": question})\n",
    "  return x"
   ]
  },
  {
   "cell_type": "code",
   "execution_count": 33,
   "metadata": {},
   "outputs": [],
   "source": [
    "from langchain.chat_models import ChatGooglePalm\n",
    "from langchain.prompts import PromptTemplate\n",
    "from langchain.chains.conversation.memory import ConversationBufferWindowMemory\n"
   ]
  },
  {
   "cell_type": "code",
   "execution_count": 36,
   "metadata": {},
   "outputs": [],
   "source": [
    "from langchain.agents import initialize_agent\n",
    "from langchain_google_genai import GoogleGenerativeAI\n",
    "import os\n",
    "\n",
    "\n",
    "\n",
    "tools = [StructuredResponseTool]\n",
    "\n",
    "# ensure llm is defined\n",
    "llm = GoogleGenerativeAI(\n",
    "    model=\"gemini-1.5-pro-latest\", \n",
    "    google_api_key=os.getenv(\"GOOGLE_API_KEY\"), \n",
    ")\n",
    "\n",
    "# initialize agent with tools\n",
    "zero_shot_agent = initialize_agent(\n",
    "        agent=\"zero-shot-react-description\",\n",
    "        tools=tools,\n",
    "        llm=llm,\n",
    "        verbose=True,\n",
    "        max_iterations=10\n",
    ")"
   ]
  },
  {
   "cell_type": "code",
   "execution_count": null,
   "metadata": {},
   "outputs": [],
   "source": [
    "zero_shot_agent.run(input=\"Which is the top football team in the world and how, the response should have three fields in the JSON - topic of the question, the question and the detailed response\")"
   ]
  }
 ],
 "metadata": {
  "kernelspec": {
   "display_name": "env",
   "language": "python",
   "name": "python3"
  },
  "language_info": {
   "codemirror_mode": {
    "name": "ipython",
    "version": 3
   },
   "file_extension": ".py",
   "mimetype": "text/x-python",
   "name": "python",
   "nbconvert_exporter": "python",
   "pygments_lexer": "ipython3",
   "version": "3.12.7"
  }
 },
 "nbformat": 4,
 "nbformat_minor": 2
}
