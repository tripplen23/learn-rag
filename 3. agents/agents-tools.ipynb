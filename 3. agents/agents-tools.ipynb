{
 "cells": [
  {
   "cell_type": "markdown",
   "metadata": {},
   "source": [
    "## Agents and Tools\n",
    "\n",
    "### Agents: Agents enable LLMs to work with tools that perform various tasks\n",
    "\n",
    "to use agents, we require 3 things\n",
    "- A base LLM\n",
    "- A tool that we will be interacting with\n",
    "- An agent to control the interaction\n",
    "\n",
    "#### In the following example, we will use the Math tool to perform some simple math operations"
   ]
  },
  {
   "cell_type": "code",
   "execution_count": 15,
   "metadata": {},
   "outputs": [
    {
     "data": {
      "text/plain": [
       "True"
      ]
     },
     "execution_count": 15,
     "metadata": {},
     "output_type": "execute_result"
    }
   ],
   "source": [
    "from dotenv import load_dotenv\n",
    "from langchain_google_genai import GoogleGenerativeAI\n",
    "import os\n",
    "load_dotenv()"
   ]
  },
  {
   "cell_type": "code",
   "execution_count": 23,
   "metadata": {},
   "outputs": [],
   "source": [
    "llm = GoogleGenerativeAI(\n",
    "  model=\"gemini-1.5-pro-latest\", \n",
    "  google_api_key=os.getenv(\"GOOGLE_API_KEY\"), \n",
    ")"
   ]
  },
  {
   "cell_type": "code",
   "execution_count": 24,
   "metadata": {},
   "outputs": [],
   "source": [
    "from langchain.chains import LLMMathChain # Chain that interprets a prompt and executes python code to do with.\n",
    "from langchain.agents import Tool"
   ]
  },
  {
   "cell_type": "code",
   "execution_count": 25,
   "metadata": {},
   "outputs": [],
   "source": [
    "# initialize the math tool\n",
    "\n",
    "llm_math = LLMMathChain.from_llm(llm=llm)\n",
    "\n",
    "math_tool = Tool(\n",
    "    name='Calculator',\n",
    "    func=llm_math.run,\n",
    "    description='Useful for when you need to answer questions about math.'\n",
    ")\n",
    "\n",
    "# when giving tools to LLM, we must pass as list of tools\n",
    "tools = [math_tool]  # is a list of possible Tools that your agent can use"
   ]
  },
  {
   "cell_type": "code",
   "execution_count": 26,
   "metadata": {},
   "outputs": [
    {
     "name": "stdout",
     "output_type": "stream",
     "text": [
      "Calculator --- Useful for when you need to answer questions about math.\n"
     ]
    }
   ],
   "source": [
    "print(tools[0].name, \"---\", tools[0].description)"
   ]
  },
  {
   "cell_type": "markdown",
   "metadata": {},
   "source": [
    "### Now create an Agent\n",
    "#### Zero-shot ReAct\n",
    "The Zero-shot ReAct Agent is a language generation mode that can create realistic contexts even without being trained on specific data. It can be used for various tasks such as generating creative text formats, language translation, and generating different types of creative content."
   ]
  },
  {
   "cell_type": "code",
   "execution_count": 27,
   "metadata": {},
   "outputs": [],
   "source": [
    "from langchain.agents import initialize_agent\n",
    "\n",
    "zero_shot_agent = initialize_agent(\n",
    "    agent=\"chat-zero-shot-react-description\",\n",
    "    tools=tools,\n",
    "    llm=llm,\n",
    "    verbose=True,\n",
    "    max_iterations=10,\n",
    "    handle_parsing_errors=True\n",
    ")"
   ]
  },
  {
   "cell_type": "code",
   "execution_count": 21,
   "metadata": {},
   "outputs": [
    {
     "name": "stderr",
     "output_type": "stream",
     "text": [
      "C:\\Users\\ducbi\\AppData\\Local\\Temp\\ipykernel_19296\\3407614447.py:1: LangChainDeprecationWarning: The method `Chain.__call__` was deprecated in langchain 0.1.0 and will be removed in 1.0. Use :meth:`~invoke` instead.\n",
      "  zero_shot_agent(\"What is root over 25?\")\n"
     ]
    },
    {
     "name": "stdout",
     "output_type": "stream",
     "text": [
      "\n",
      "\n",
      "\u001b[1m> Entering new AgentExecutor chain...\u001b[0m\n",
      "\u001b[32;1m\u001b[1;3mQuestion: What is root over 25?\n",
      "Thought: I need to use the calculator to find the square root of 25. \n",
      "Action:\n",
      "```json\n",
      "{\n",
      "  \"action\": \"Calculator\",\n",
      "  \"action_input\": \"sqrt(25)\"\n",
      "}\n",
      "```\n",
      "\u001b[0m\n",
      "Observation: \u001b[36;1m\u001b[1;3mAnswer: 5.0\u001b[0m\n",
      "Thought:\u001b[32;1m\u001b[1;3mThought: I now know the final answer.\n",
      "Final Answer: 5.0 \n",
      "\u001b[0m\n",
      "\n",
      "\u001b[1m> Finished chain.\u001b[0m\n"
     ]
    },
    {
     "data": {
      "text/plain": [
       "{'input': 'What is root over 25?', 'output': '5.0'}"
      ]
     },
     "execution_count": 21,
     "metadata": {},
     "output_type": "execute_result"
    }
   ],
   "source": [
    "zero_shot_agent(\"What is root over 25?\")"
   ]
  },
  {
   "cell_type": "code",
   "execution_count": 28,
   "metadata": {},
   "outputs": [
    {
     "name": "stdout",
     "output_type": "stream",
     "text": [
      "\n",
      "\n",
      "\u001b[1m> Entering new AgentExecutor chain...\u001b[0m\n",
      "\u001b[32;1m\u001b[1;3mCould not parse LLM output: \u001b[0m\n",
      "Observation: Invalid or incomplete response\n",
      "Thought:\u001b[32;1m\u001b[1;3mCould not parse LLM output: \u001b[0m\n",
      "Observation: Invalid or incomplete response\n",
      "Thought:\u001b[32;1m\u001b[1;3mQuestion: You are building a house. There are two bedrooms of 5 metres by 5 metres each and drawing cum open kitchen is 7 metres by 6 metres and balcony of 3 metres by 2 metres. What is the total area of your house?\n",
      "Thought: I have to calculate area of each room/space first and then add them up to get the total area.\n",
      "Thought: Area of each bedroom is 5*5 = 25 sq. metres\n",
      "Thought: Total area of bedrooms is 25*2 = 50 sq. metres\n",
      "Thought: Area of drawing cum open kitchen = 7*6 = 42 sq. metres\n",
      "Thought: Area of balcony is 3*2 = 6 sq. metres\n",
      "Thought: Total area of house is 50+42+6 = 98 sq. metres\n",
      "Final Answer: 98 sq. metres \n",
      "\u001b[0m\n",
      "\n",
      "\u001b[1m> Finished chain.\u001b[0m\n"
     ]
    },
    {
     "data": {
      "text/plain": [
       "{'input': '\\n        You are building a house. There are two bedrooms of 5 metres by 5 metres each and drawing cum open kitchen \\n        is 7 metres by 6 metres and balcony of 3 metres by 2 metres. \\n        What is the total area of your house?\\n        ',\n",
       " 'output': '98 sq. metres'}"
      ]
     },
     "execution_count": 28,
     "metadata": {},
     "output_type": "execute_result"
    }
   ],
   "source": [
    "problem = \"\"\"\n",
    "        You are building a house. There are two bedrooms of 5 metres by 5 metres each and drawing cum open kitchen \n",
    "        is 7 metres by 6 metres and balcony of 3 metres by 2 metres. \n",
    "        What is the total area of your house?\n",
    "        \"\"\"\n",
    "zero_shot_agent(problem)"
   ]
  },
  {
   "cell_type": "markdown",
   "metadata": {},
   "source": [
    "### Using mutiple tools\n",
    "In the following example, we will be using the Duck Duck Go search API as a Tool combined with the Math Tool We will then give the Agent a problem that initiates a search first followed by Calculation."
   ]
  },
  {
   "cell_type": "code",
   "execution_count": 29,
   "metadata": {},
   "outputs": [
    {
     "name": "stderr",
     "output_type": "stream",
     "text": [
      "C:\\Users\\ducbi\\AppData\\Local\\Temp\\ipykernel_19296\\1937460226.py:11: LangChainDeprecationWarning: This class is deprecated and will be removed in langchain 1.0. See API reference for replacement: https://api.python.langchain.com/en/latest/chains/langchain.chains.llm_math.base.LLMMathChain.html\n",
      "  llm_math_chain = LLMMathChain(llm=llm, verbose=True)\n",
      "e:\\hobby_project\\gen-ai\\demo_langchain\\RAG\\env\\Lib\\site-packages\\langchain\\chains\\llm_math\\base.py:175: UserWarning: Directly instantiating an LLMMathChain with an llm is deprecated. Please instantiate with llm_chain argument or using the from_llm class method.\n",
      "  warnings.warn(\n"
     ]
    }
   ],
   "source": [
    "# Define the Tools\n",
    "from langchain.tools import DuckDuckGoSearchRun\n",
    "search = DuckDuckGoSearchRun()\n",
    "\n",
    "search_tool = Tool.from_function(\n",
    "  func=search.run,\n",
    "  name=\"Search\",\n",
    "  description=\"Useful when you need to search the internet for information\"\n",
    ")\n",
    "\n",
    "llm_math_chain = LLMMathChain(llm=llm, verbose=True)\n",
    "\n",
    "math_tool = Tool.from_function(\n",
    "  func=llm_math_chain.run,\n",
    "  name=\"Calculator\",\n",
    "  description=\"Useful for when you are asked to perform math calculations\"\n",
    ")"
   ]
  },
  {
   "cell_type": "code",
   "execution_count": 30,
   "metadata": {},
   "outputs": [],
   "source": [
    "# Define the Agent\n",
    "\n",
    "tools = [search_tool, math_tool]\n",
    "\n",
    "agent = initialize_agent(\n",
    "    tools,\n",
    "    llm,\n",
    "    agent=\"zero-shot-react-description\",\n",
    "    verbose=True,\n",
    "    max_iterations=10,\n",
    "    handle_parsing_errors=True\n",
    ")"
   ]
  },
  {
   "cell_type": "code",
   "execution_count": 31,
   "metadata": {},
   "outputs": [
    {
     "name": "stdout",
     "output_type": "stream",
     "text": [
      "\n",
      "\n",
      "\u001b[1m> Entering new AgentExecutor chain...\u001b[0m\n",
      "\u001b[32;1m\u001b[1;3mThought: I need to search Google Finance for the Microsoft stock price in USD, then convert that to VND. \n",
      "Action: Search\n",
      "Action Input: Microsoft stock price Google Finance\u001b[0m\n",
      "Observation: \u001b[36;1m\u001b[1;3mDiscover real-time Microsoft Corporation Common Stock (MSFT) stock prices, quotes, historical data, news, and Insights for informed trading and investment decisions. Stay ahead with Nasdaq. Microsoft: Setting My Eyes On $900 Share Price (Rating Upgrade) Microsoft Corporation has underperformed the broader market by 12% since my last coverage, but a recent pullback makes it more attractive. Microsoft has showcased a strong 2024 performance, supported ... 2 days ago - Seeking Alpha. MSFT Competitors. $ Market cap P/E ratio $ Price 1d change 52-week range. View Microsoft Corporation MSFT stock quote prices, financial information, real-time forecasts, and company news from CNN. Get the latest Microsoft stock price NASDAQ: MSFT stock rating and detailed information including MSFT news, historical charts and real-time prices. Today's Change. (0.66%) $2.75. Current Price. $417.46. Price as of October 9, 2024, 4:00 p.m. ET. AI is likely to send shares of this tech giant higher over the next three years. Microsoft(MSFT 0. ...\u001b[0m\n",
      "Thought:\u001b[32;1m\u001b[1;3mThought: I have the Microsoft stock price in USD. Now I need to convert it to VND.\n",
      "Action: Search\n",
      "Action Input: USD to VND exchange rate\u001b[0m\n",
      "Observation: \u001b[36;1m\u001b[1;3mConvert United States Dollar to Vietnamese Dong with the latest exchange rate and historical data. As of 8/30/2024, 1 USD equals 24,874.572 VND. Quickly and easily calculate foreign exchange rates with this free currency converter. Further Information US-Dollar - Dong ... Currency Table USD / VND 10/11/2024. USD: $ 1: $ 5: $ 10: $ 50 ... 1 VND = 0.00004 USD Oct 09, 2024 18:26 UTC. Check the currency rates against all the world currencies here. The currency converter below is easy to use and the currency rates are updated ... Send money to over 170 countries. Check live exchange rates for 1 USD to VND with our USD to VND chart. Exchange US dollars to Vietnamese đồng at a great exchange rate with OFX. USD to VND trend. 1 USD = 24,836.25 VND at the rate on 2024-10-09. The cost of 1 United States Dollar in Vietnamese Dong today is ₫24,836.25 according to the \"Open Exchange Rates\", compared to yesterday, the exchange rate decreased by -0.03% (by -₫8.48). The exchange rate of the United States Dollar in relation to the Vietnamese Dong on the chart, the ...\u001b[0m\n",
      "Thought:\u001b[32;1m\u001b[1;3mThought: I have the Microsoft stock price in USD and the USD to VND exchange rate. Now I can calculate the price in VND.\n",
      "Action: Calculator\n",
      "Action Input: 417.46 * 24,836.25 \u001b[0m\n",
      "\n",
      "\u001b[1m> Entering new LLMMathChain chain...\u001b[0m\n",
      "417.46 * 24,836.25\u001b[32;1m\u001b[1;3m```text\n",
      "417.46 * 24836.25\n",
      "```\n",
      "...numexpr.evaluate(\"417.46 * 24836.25\")...\n",
      "\u001b[0m\n",
      "Answer: \u001b[33;1m\u001b[1;3m10368140.924999999\u001b[0m\n",
      "\u001b[1m> Finished chain.\u001b[0m\n",
      "\n",
      "Observation: \u001b[33;1m\u001b[1;3mAnswer: 10368140.924999999\u001b[0m\n",
      "Thought:"
     ]
    },
    {
     "name": "stderr",
     "output_type": "stream",
     "text": [
      "Retrying langchain_google_genai.llms._completion_with_retry.<locals>._completion_with_retry in 4.0 seconds as it raised ResourceExhausted: 429 Resource has been exhausted (e.g. check quota)..\n",
      "Retrying langchain_google_genai.llms._completion_with_retry.<locals>._completion_with_retry in 4.0 seconds as it raised ResourceExhausted: 429 Resource has been exhausted (e.g. check quota)..\n",
      "Retrying langchain_google_genai.llms._completion_with_retry.<locals>._completion_with_retry in 4.0 seconds as it raised ResourceExhausted: 429 Resource has been exhausted (e.g. check quota)..\n",
      "Retrying langchain_google_genai.llms._completion_with_retry.<locals>._completion_with_retry in 8.0 seconds as it raised ResourceExhausted: 429 Resource has been exhausted (e.g. check quota)..\n",
      "Retrying langchain_google_genai.llms._completion_with_retry.<locals>._completion_with_retry in 10.0 seconds as it raised ResourceExhausted: 429 Resource has been exhausted (e.g. check quota)..\n"
     ]
    },
    {
     "name": "stdout",
     "output_type": "stream",
     "text": [
      "\u001b[32;1m\u001b[1;3mThought: I have the Microsoft stock price in USD and the USD to VND exchange rate. Now I can calculate the price in VND.\n",
      "Final Answer: The price of Microsoft stock is $417.46 USD and ₫10,368,140.92 VND. \n",
      "\u001b[0m\n",
      "\n",
      "\u001b[1m> Finished chain.\u001b[0m\n"
     ]
    },
    {
     "data": {
      "text/plain": [
       "'The price of Microsoft stock is $417.46 USD and ₫10,368,140.92 VND.'"
      ]
     },
     "execution_count": 31,
     "metadata": {},
     "output_type": "execute_result"
    }
   ],
   "source": [
    "# Run the Agent with the problem\n",
    "\n",
    "agent.run(\"\"\"Get Microsoft Stock Price taken from Google Finance and display in both USD and VND values\"\"\")"
   ]
  },
  {
   "cell_type": "markdown",
   "metadata": {},
   "source": [
    "### Create a custom tool"
   ]
  },
  {
   "cell_type": "code",
   "execution_count": 32,
   "metadata": {},
   "outputs": [],
   "source": [
    "from langchain.tools import BaseTool\n",
    "from langchain_core.output_parsers import JsonOutputParser\n",
    "from langchain.tools import tool\n",
    "\n",
    "@tool(\"JSON_Response\", return_direct=True)\n",
    "def StructuredResponseTool(question: str):\n",
    "  \"\"\"\n",
    "  use this tool to send a prompt and get a JSON returned \n",
    "  with three fields - Topic, Question_Details and Detailed_Response\n",
    "  \"\"\"\n",
    "  json_prompt = PromptTemplate.from_template(\n",
    "  \"\"\"Return a JSON object with an `answer` key that answers the following question: {question}. \n",
    "      The JSON object will have three fields - Topic, Question_Details and Detailed_Response\"\"\"\n",
    "  )\n",
    "\n",
    "  model = GoogleGenerativeAI(\n",
    "    model=\"gemini-1.5-pro-latest\", \n",
    "    google_api_key=os.getenv(\"GOOGLE_API_KEY\"), \n",
    "  )\n",
    "\n",
    "  json_parser = JsonOutputParser()\n",
    "  json_chain = json_prompt | model | json_parser\n",
    "  x = json_chain.invoke({\"question\": question})\n",
    "  return x"
   ]
  },
  {
   "cell_type": "code",
   "execution_count": 33,
   "metadata": {},
   "outputs": [],
   "source": [
    "from langchain.chat_models import ChatGooglePalm\n",
    "from langchain.prompts import PromptTemplate\n",
    "from langchain.chains.conversation.memory import ConversationBufferWindowMemory\n"
   ]
  },
  {
   "cell_type": "code",
   "execution_count": 36,
   "metadata": {},
   "outputs": [],
   "source": [
    "from langchain.agents import initialize_agent\n",
    "from langchain_google_genai import GoogleGenerativeAI\n",
    "import os\n",
    "\n",
    "\n",
    "\n",
    "tools = [StructuredResponseTool]\n",
    "\n",
    "# ensure llm is defined\n",
    "llm = GoogleGenerativeAI(\n",
    "    model=\"gemini-1.5-pro-latest\", \n",
    "    google_api_key=os.getenv(\"GOOGLE_API_KEY\"), \n",
    ")\n",
    "\n",
    "# initialize agent with tools\n",
    "zero_shot_agent = initialize_agent(\n",
    "        agent=\"zero-shot-react-description\",\n",
    "        tools=tools,\n",
    "        llm=llm,\n",
    "        verbose=True,\n",
    "        max_iterations=10\n",
    ")"
   ]
  },
  {
   "cell_type": "code",
   "execution_count": 37,
   "metadata": {},
   "outputs": [
    {
     "name": "stdout",
     "output_type": "stream",
     "text": [
      "\n",
      "\n",
      "\u001b[1m> Entering new AgentExecutor chain...\u001b[0m\n",
      "\u001b[32;1m\u001b[1;3mThought: I need to get the information about the top football team from the JSON_Response tool. \n",
      "Action: JSON_Response\n",
      "Action Input: {\"question\": \"Which is the top football team in the world and how?\"}\u001b[0m\n",
      "Observation: \u001b[36;1m\u001b[1;3m{'Topic': 'Football', 'Question_Details': 'Which is the top football team in the world and how?', 'Detailed_Response': {'answer': \"There is no single definitive answer to which football team is the best in the world. Rankings and opinions vary depending on criteria like FIFA rankings, recent performance in major tournaments, and the strength of domestic leagues.  Some of the teams frequently in the conversation for 'best in the world' include:\\n\\n* **Argentina:** Current FIFA World Cup champions (2022) and Copa América champions (2021).\\n* **France:**  2018 FIFA World Cup champions and consistent performers in international tournaments.\\n* **Brazil:**  Historically dominant with a record 5 World Cup titles. \\n* **England:** Strong recent performances in international tournaments. \\n* **Spain:**  Known for their possession-based style and winners of the 2010 World Cup.\\n\\nUltimately, the 'best' team is subjective and open to debate.\"}}\u001b[0m\n",
      "\u001b[32;1m\u001b[1;3m\u001b[0m\n",
      "\n",
      "\u001b[1m> Finished chain.\u001b[0m\n"
     ]
    },
    {
     "data": {
      "text/plain": [
       "{'Topic': 'Football',\n",
       " 'Question_Details': 'Which is the top football team in the world and how?',\n",
       " 'Detailed_Response': {'answer': \"There is no single definitive answer to which football team is the best in the world. Rankings and opinions vary depending on criteria like FIFA rankings, recent performance in major tournaments, and the strength of domestic leagues.  Some of the teams frequently in the conversation for 'best in the world' include:\\n\\n* **Argentina:** Current FIFA World Cup champions (2022) and Copa América champions (2021).\\n* **France:**  2018 FIFA World Cup champions and consistent performers in international tournaments.\\n* **Brazil:**  Historically dominant with a record 5 World Cup titles. \\n* **England:** Strong recent performances in international tournaments. \\n* **Spain:**  Known for their possession-based style and winners of the 2010 World Cup.\\n\\nUltimately, the 'best' team is subjective and open to debate.\"}}"
      ]
     },
     "execution_count": 37,
     "metadata": {},
     "output_type": "execute_result"
    }
   ],
   "source": [
    "zero_shot_agent.run(input=\"Which is the top football team in the world and how, the response should have three fields in the JSON - topic of the question, the question and the detailed response\")"
   ]
  }
 ],
 "metadata": {
  "kernelspec": {
   "display_name": "env",
   "language": "python",
   "name": "python3"
  },
  "language_info": {
   "codemirror_mode": {
    "name": "ipython",
    "version": 3
   },
   "file_extension": ".py",
   "mimetype": "text/x-python",
   "name": "python",
   "nbconvert_exporter": "python",
   "pygments_lexer": "ipython3",
   "version": "3.12.7"
  }
 },
 "nbformat": 4,
 "nbformat_minor": 2
}
