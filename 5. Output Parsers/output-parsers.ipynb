{
 "cells": [
  {
   "cell_type": "markdown",
   "metadata": {},
   "source": [
    "## Output Parsers\n",
    "Language models output text. But many times you may want to get more structured information than just text back. This is where output parsers come in.\n",
    "Output parsers are classes that help structure language model responses. There are 2 main methods an output parser must implement:\n",
    "- **Get format instructions**: A method which returns a string containing instructions for how the output of a language model should be fommatted.\n",
    "- **Parse**: A method which takes in a string (assumed to be the response from a language model) and parses it into some structure."
   ]
  },
  {
   "cell_type": "code",
   "execution_count": 1,
   "metadata": {},
   "outputs": [
    {
     "name": "stderr",
     "output_type": "stream",
     "text": [
      "e:\\hobby_project\\gen-ai\\demo_langchain\\RAG\\env\\Lib\\site-packages\\tqdm\\auto.py:21: TqdmWarning: IProgress not found. Please update jupyter and ipywidgets. See https://ipywidgets.readthedocs.io/en/stable/user_install.html\n",
      "  from .autonotebook import tqdm as notebook_tqdm\n"
     ]
    }
   ],
   "source": [
    "from langchain.output_parsers import CommaSeparatedListOutputParser\n",
    "from langchain.prompts import PromptTemplate\n",
    "from langchain_google_genai import GoogleGenerativeAI\n",
    "from dotenv import load_dotenv\n",
    "import os"
   ]
  },
  {
   "cell_type": "code",
   "execution_count": 2,
   "metadata": {},
   "outputs": [
    {
     "data": {
      "text/plain": [
       "True"
      ]
     },
     "execution_count": 2,
     "metadata": {},
     "output_type": "execute_result"
    }
   ],
   "source": [
    "load_dotenv()"
   ]
  },
  {
   "cell_type": "code",
   "execution_count": 3,
   "metadata": {},
   "outputs": [],
   "source": [
    "model = GoogleGenerativeAI(\n",
    "  model=\"gemini-1.5-pro-latest\", \n",
    "  google_api_key=os.getenv(\"GOOGLE_API_KEY\"), \n",
    ")"
   ]
  },
  {
   "cell_type": "markdown",
   "metadata": {},
   "source": [
    "### CSV Parser\n",
    "This output parser can be used when you want to return a list of comma-separated items."
   ]
  },
  {
   "cell_type": "code",
   "execution_count": 4,
   "metadata": {},
   "outputs": [],
   "source": [
    "output_parser = CommaSeparatedListOutputParser()\n",
    "\n",
    "format_instructions = output_parser.get_format_instructions()\n",
    "prompt = PromptTemplate(\n",
    "    template=\"List five places {places}.\\n{format_instructions}\",\n",
    "    input_variables=[\"places\"],\n",
    "    partial_variables={\"format_instructions\": format_instructions},\n",
    ")"
   ]
  },
  {
   "cell_type": "code",
   "execution_count": 5,
   "metadata": {},
   "outputs": [],
   "source": [
    "chain = prompt | model | output_parser"
   ]
  },
  {
   "cell_type": "code",
   "execution_count": 6,
   "metadata": {},
   "outputs": [
    {
     "data": {
      "text/plain": [
       "['Helsinki',\n",
       " 'Tampere',\n",
       " 'Turku Archipelago',\n",
       " 'Lake Saimaa',\n",
       " 'Rovaniemi (Lapland)']"
      ]
     },
     "execution_count": 6,
     "metadata": {},
     "output_type": "execute_result"
    }
   ],
   "source": [
    "chain.invoke({\"places\": \"for summer tourism in Finland\"})"
   ]
  },
  {
   "cell_type": "markdown",
   "metadata": {},
   "source": [
    "### JSON parser\n",
    "This output parser allows users to specify a JSON schema and query LLMs for outputs that conform to that schema. Keep in mind that large language models are leaky abstractions! You'll have to use an LLM with sufficient capacity to generate well-formed JSON. In the OpenAI family, DaVinci can do reliably but Curie’s ability already drops off dramatically.\n",
    "\n",
    "#### The following example uses Pydantic to declare your data model."
   ]
  },
  {
   "cell_type": "code",
   "execution_count": 27,
   "metadata": {},
   "outputs": [],
   "source": [
    "from typing import List\n",
    "from langchain_core.output_parsers import JsonOutputParser\n",
    "from pydantic import BaseModel, Field"
   ]
  },
  {
   "cell_type": "code",
   "execution_count": 28,
   "metadata": {},
   "outputs": [],
   "source": [
    "class Travel(BaseModel):\n",
    "    place: str = Field(description=\"name of the places\")\n",
    "    description: str = Field(description=\"description of the place\")\n",
    "    activities: str = Field(description=\"what to do in that place\")   "
   ]
  },
  {
   "cell_type": "code",
   "execution_count": 30,
   "metadata": {},
   "outputs": [
    {
     "data": {
      "text/plain": [
       "{'place': 'Da Lat',\n",
       " 'description': 'Located in the Central Highlands, Da Lat enjoys a year-round cool climate, making it a perfect escape from the summer heat. ',\n",
       " 'activities': 'Visit flower gardens, explore waterfalls, enjoy scenic hikes, experience the French colonial architecture.'}"
      ]
     },
     "execution_count": 30,
     "metadata": {},
     "output_type": "execute_result"
    }
   ],
   "source": [
    "# And a query intented to prompt a language model to populate the data structure.\n",
    "travel_query = \"Suggest a place in Vietnam for going on a trip this summer to avoid heat.\"\n",
    "\n",
    "# Set up a parser + inject instructions into the prompt template.\n",
    "parser = JsonOutputParser(pydantic_object=Travel)\n",
    "\n",
    "prompt = PromptTemplate(\n",
    "    template=\"Answer the user query.\\n{format_instructions}\\n{query}\\n\",\n",
    "    input_variables=[\"query\"],\n",
    "    partial_variables={\"format_instructions\": parser.get_format_instructions()},\n",
    ")\n",
    "\n",
    "chain = prompt | model | parser\n",
    "\n",
    "chain.invoke({\"query\": travel_query})"
   ]
  },
  {
   "cell_type": "markdown",
   "metadata": {},
   "source": [
    "#### Without Pydantic"
   ]
  },
  {
   "cell_type": "code",
   "execution_count": 31,
   "metadata": {},
   "outputs": [
    {
     "data": {
      "text/plain": [
       "{'suggestion': 'Lapland, Finland',\n",
       " 'reason': 'Lapland is located in the northernmost part of Finland, well within the Arctic Circle. This makes it an ideal destination for escaping the summer heat, as temperatures tend to be much cooler than in other parts of the country. ',\n",
       " 'activities': ['Hiking in stunning national parks like Pallas-Yllästunturi or Urho Kekkonen National Park',\n",
       "  \"Experiencing the midnight sun, a natural phenomenon where the sun doesn't set for weeks during the summer solstice\",\n",
       "  'Going white water rafting or kayaking in pristine rivers and lakes',\n",
       "  'Spotting wildlife like reindeer, bears, and a variety of bird species',\n",
       "  'Visiting Santa Claus Village in Rovaniemi for a unique and festive experience']}"
      ]
     },
     "execution_count": 31,
     "metadata": {},
     "output_type": "execute_result"
    }
   ],
   "source": [
    "travel_query = \"Suggest a place in Finland for going on a trip this summer to avoid heat.\"\n",
    "\n",
    "parser = JsonOutputParser()\n",
    "\n",
    "prompt = PromptTemplate(\n",
    "  template=\"Answer the user query.\\n{format_instructions}\\n{query}\\n\",\n",
    "  input_variables=[\"query\"],\n",
    "  partial_variables={\"format_instructions\": parser.get_format_instructions()},\n",
    ")\n",
    "\n",
    "chain = prompt | model | parser\n",
    "chain.invoke({\"query\": travel_query})"
   ]
  },
  {
   "cell_type": "markdown",
   "metadata": {},
   "source": [
    "#### Structured Output Parser\n",
    "This output parser can be used when you want to return multiple fields. While the Pydantic/JSON parser is more powerful, this is useful for less powerful models."
   ]
  },
  {
   "cell_type": "code",
   "execution_count": 17,
   "metadata": {},
   "outputs": [],
   "source": [
    "from langchain.output_parsers import ResponseSchema, StructuredOutputParser"
   ]
  },
  {
   "cell_type": "code",
   "execution_count": 20,
   "metadata": {},
   "outputs": [],
   "source": [
    "response_schemas = [\n",
    "  ResponseSchema(name=\"answer\", description=\"Answer to the user's question\"),\n",
    "  ResponseSchema(name=\"description\", description=\"Detailed description of the answer topic\"),\n",
    "  ResponseSchema(name=\"applications\", description=\"Real World applications of the answer topic\"),\n",
    "]\n",
    "output_parser = StructuredOutputParser.from_response_schemas(response_schemas)\n"
   ]
  },
  {
   "cell_type": "code",
   "execution_count": 25,
   "metadata": {},
   "outputs": [
    {
     "name": "stdout",
     "output_type": "stream",
     "text": [
      "Output parser:  response_schemas=[ResponseSchema(name='answer', description=\"Answer to the user's question\", type='string'), ResponseSchema(name='description', description='Detailed description of the answer topic', type='string'), ResponseSchema(name='applications', description='Real World applications of the answer topic', type='string')]\n",
      "Format instruction:  The output should be a markdown code snippet formatted in the following schema, including the leading and trailing \"```json\" and \"```\":\n",
      "\n",
      "```json\n",
      "{\n",
      "\t\"answer\": string  // Answer to the user's question\n",
      "\t\"description\": string  // Detailed description of the answer topic\n",
      "\t\"applications\": string  // Real World applications of the answer topic\n",
      "}\n",
      "```\n",
      "Prompt template:  input_variables=['question'] input_types={} partial_variables={'format_instructions': 'The output should be a markdown code snippet formatted in the following schema, including the leading and trailing \"```json\" and \"```\":\\n\\n```json\\n{\\n\\t\"answer\": string  // Answer to the user\\'s question\\n\\t\"description\": string  // Detailed description of the answer topic\\n\\t\"applications\": string  // Real World applications of the answer topic\\n}\\n```'} template='Answer the users question as best as possible.\\n{format_instructions}\\n{question}'\n"
     ]
    }
   ],
   "source": [
    "format_instructions = output_parser.get_format_instructions()\n",
    "prompt = PromptTemplate(\n",
    "  template=\"Answer the users question as best as possible.\\n{format_instructions}\\n{question}\",\n",
    "  input_variables=[\"question\"],\n",
    "  partial_variables={\"format_instructions\": format_instructions}\n",
    ")\n",
    "print(\"Output parser: \", output_parser)\n",
    "print(\"Format instruction: \", format_instructions)\n",
    "print(\"Prompt template: \", prompt)"
   ]
  },
  {
   "cell_type": "code",
   "execution_count": 26,
   "metadata": {},
   "outputs": [
    {
     "data": {
      "text/plain": [
       "{'answer': 'One of the most revolutionary healthcare inventions of the 21st century is **Artificial Intelligence (AI)**.',\n",
       " 'description': \"AI in healthcare encompasses the use of complex algorithms and software to emulate human cognition in the analysis, interpretation, and comprehension of complex medical data. It's applied in various areas like disease diagnosis, drug discovery, personalized medicine, and patient monitoring.\",\n",
       " 'applications': '**Real-world applications of AI in healthcare include:** \\n\\n* **Medical Imaging Analysis:** AI algorithms can analyze X-rays, CT scans, and MRIs to detect abnormalities like tumors with high accuracy.\\n* **Drug Discovery and Development:** AI accelerates the process of identifying potential drug candidates and predicting their effectiveness.\\n* **Personalized Treatment:** AI helps tailor treatment plans based on individual patient data, genetics, and lifestyle.\\n* **Virtual Health Assistants:** AI-powered chatbots provide medical advice, schedule appointments, and answer patient queries.\\n* **Robotic Surgery:** AI-assisted robotic systems allow surgeons to perform minimally invasive procedures with greater precision.'}"
      ]
     },
     "execution_count": 26,
     "metadata": {},
     "output_type": "execute_result"
    }
   ],
   "source": [
    "chain = prompt | model | output_parser\n",
    "chain.invoke({\"question\": \"Name an invention in Healthcare that has caused revolution in twenty first century.\"})"
   ]
  }
 ],
 "metadata": {
  "kernelspec": {
   "display_name": "env",
   "language": "python",
   "name": "python3"
  },
  "language_info": {
   "codemirror_mode": {
    "name": "ipython",
    "version": 3
   },
   "file_extension": ".py",
   "mimetype": "text/x-python",
   "name": "python",
   "nbconvert_exporter": "python",
   "pygments_lexer": "ipython3",
   "version": "3.12.7"
  }
 },
 "nbformat": 4,
 "nbformat_minor": 2
}
