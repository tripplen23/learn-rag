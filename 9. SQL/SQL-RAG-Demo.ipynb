{
 "cells": [
  {
   "cell_type": "markdown",
   "metadata": {},
   "source": [
    "## In this Notebook, we will create a basic Q&A chain and Agent over a SQL database\n",
    "\n",
    "### Architecture\n",
    "\n",
    "At a high-level, the steps of any SQL chain and agent are:\n",
    "* Convert question to SQL query using the LLM Model.\n",
    "* Execute the SQL query.\n",
    "* Getting the Model to respond to user input using the query results."
   ]
  },
  {
   "cell_type": "code",
   "execution_count": 2,
   "metadata": {},
   "outputs": [],
   "source": [
    "import os\n",
    "from langchain.utilities import SQLDatabase\n",
    "from langchain_google_genai import GoogleGenerativeAI\n",
    "from langchain.prompts import PromptTemplate\n",
    "from langchain.prompts.chat import HumanMessagePromptTemplate\n",
    "from langchain.schema import HumanMessage, SystemMessage\n",
    "from langchain.chains import create_sql_query_chain\n",
    "from dotenv import load_dotenv"
   ]
  },
  {
   "cell_type": "code",
   "execution_count": null,
   "metadata": {},
   "outputs": [],
   "source": [
    "load_dotenv()"
   ]
  },
  {
   "cell_type": "code",
   "execution_count": 4,
   "metadata": {},
   "outputs": [],
   "source": [
    "llm = GoogleGenerativeAI(\n",
    "  model=\"gemini-1.5-pro-latest\",\n",
    "  temperature=0.5,\n",
    "  google_api_key=os.getenv(\"GOOGLE_API_KEY\"), \n",
    ")"
   ]
  },
  {
   "cell_type": "code",
   "execution_count": null,
   "metadata": {},
   "outputs": [],
   "source": [
    "host = 'localhost'\n",
    "port = '3306'\n",
    "username = 'root'\n",
    "password = 'xxxxx'\n",
    "database_schema = 'analytics'\n",
    "mysql_uri = f\"mysql+pymysql://{username}:{password}@{host}:{port}/{database_schema}\"\n",
    "\n",
    "db = SQLDatabase.from_uri(mysql_uri, sample_rows_in_table_info=2)\n",
    "chain = create_sql_query_chain(llm, db)"
   ]
  },
  {
   "cell_type": "code",
   "execution_count": null,
   "metadata": {},
   "outputs": [],
   "source": [
    "print(db.dialect)\n",
    "print(db.get_usable_table_names())\n",
    "db.run(\"SELECT count(*) FROM customer LIMIT 10;\")"
   ]
  },
  {
   "cell_type": "code",
   "execution_count": null,
   "metadata": {},
   "outputs": [],
   "source": [
    "response = chain.invoke({\"question\": \"How many employees are there\"})\n",
    "response"
   ]
  },
  {
   "cell_type": "code",
   "execution_count": null,
   "metadata": {},
   "outputs": [],
   "source": [
    "db.run(response)"
   ]
  },
  {
   "cell_type": "code",
   "execution_count": null,
   "metadata": {},
   "outputs": [],
   "source": [
    "response = chain.invoke({\"question\": \"How many customers are from Bronx\"})\n",
    "print(response)\n",
    "print(db.run(response))"
   ]
  },
  {
   "cell_type": "code",
   "execution_count": null,
   "metadata": {},
   "outputs": [],
   "source": [
    "response = chain.invoke({\"question\": \"Which state are customers most from?\"})\n",
    "print(response)\n",
    "print(db.run(response))"
   ]
  },
  {
   "cell_type": "code",
   "execution_count": null,
   "metadata": {},
   "outputs": [],
   "source": [
    "response = chain.invoke({\"question\": \"Give me the top 5 customers who paid the highest shipping charges\"})\n",
    "print(response)\n",
    "print(db.run(response))"
   ]
  }
 ],
 "metadata": {
  "kernelspec": {
   "display_name": "env",
   "language": "python",
   "name": "python3"
  },
  "language_info": {
   "codemirror_mode": {
    "name": "ipython",
    "version": 3
   },
   "file_extension": ".py",
   "mimetype": "text/x-python",
   "name": "python",
   "nbconvert_exporter": "python",
   "pygments_lexer": "ipython3",
   "version": "3.12.4"
  }
 },
 "nbformat": 4,
 "nbformat_minor": 2
}
